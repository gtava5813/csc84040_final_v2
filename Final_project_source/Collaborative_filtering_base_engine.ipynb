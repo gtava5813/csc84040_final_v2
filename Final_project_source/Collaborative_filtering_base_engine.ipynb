{
 "cells": [
  {
   "cell_type": "markdown",
   "metadata": {},
   "source": [
    "# Imports"
   ]
  },
  {
   "cell_type": "code",
   "execution_count": null,
   "metadata": {},
   "outputs": [
    {
     "name": "stderr",
     "output_type": "stream",
     "text": [
      "f:\\CSC84040_Final_Project-main\\csc84040_final_env\\Lib\\site-packages\\tqdm\\auto.py:21: TqdmWarning: IProgress not found. Please update jupyter and ipywidgets. See https://ipywidgets.readthedocs.io/en/stable/user_install.html\n",
      "  from .autonotebook import tqdm as notebook_tqdm\n"
     ]
    }
   ],
   "source": [
    "# Imports\n",
    "import os\n",
    "import pandas as pd\n",
    "import numpy as np\n",
    "import sklearn as skl\n",
    "from sklearn.metrics.pairwise import cosine_similarity"
   ]
  },
  {
   "cell_type": "markdown",
   "metadata": {},
   "source": [
    "# Functions"
   ]
  },
  {
   "cell_type": "markdown",
   "metadata": {},
   "source": [
    "## Load and preprocess the data\n"
   ]
  },
  {
   "cell_type": "code",
   "execution_count": 2,
   "metadata": {},
   "outputs": [],
   "source": [
    "def load_data(file_path):\n",
    "    \"\"\"\n",
    "    Load the music data from a CSV file and preprocess it.\n",
    "    \n",
    "    Args:\n",
    "    file_path (str): Path to the CSV file containing music data.\n",
    "    \n",
    "    Returns:\n",
    "    pd.DataFrame: Preprocessed DataFrame containing music features.\n",
    "    \"\"\"\n",
    "    # Read the CSV file\n",
    "    df = pd.read_csv(file_path)\n",
    "    \n",
    "    # Select relevant features for recommendation\n",
    "    features = ['danceability', 'energy', 'key', 'loudness', 'mode', 'speechiness', \n",
    "                'acousticness', 'instrumentalness', 'liveness', 'valence', 'tempo']\n",
    "    \n",
    "    return df[['user_id', 'artistname', 'trackname'] + features]"
   ]
  },
  {
   "cell_type": "markdown",
   "metadata": {},
   "source": [
    "## Calculate similarity between songs\n"
   ]
  },
  {
   "cell_type": "code",
   "execution_count": 3,
   "metadata": {},
   "outputs": [],
   "source": [
    "def calculate_song_similarity(df):\n",
    "    \"\"\"\n",
    "    Calculate cosine similarity between songs based on their features.\n",
    "    \n",
    "    Args:\n",
    "    df (pd.DataFrame): DataFrame containing song features.\n",
    "    \n",
    "    Returns:\n",
    "    np.ndarray: Similarity matrix between songs.\n",
    "    \"\"\"\n",
    "    # Extract feature columns\n",
    "    features = df.iloc[:, 3:].values\n",
    "    \n",
    "    # Calculate cosine similarity\n",
    "    return cosine_similarity(features)\n"
   ]
  },
  {
   "cell_type": "markdown",
   "metadata": {},
   "source": [
    "## Get top N similar songs"
   ]
  },
  {
   "cell_type": "code",
   "execution_count": 4,
   "metadata": {},
   "outputs": [],
   "source": [
    "def get_similar_songs(df, song_index, similarity_matrix, n=5):\n",
    "    \"\"\"\n",
    "    Get top N similar songs for a given song.\n",
    "    \n",
    "    Args:\n",
    "    df (pd.DataFrame): DataFrame containing song information.\n",
    "    song_index (int): Index of the target song.\n",
    "    similarity_matrix (np.ndarray): Similarity matrix between songs.\n",
    "    n (int): Number of similar songs to return.\n",
    "    \n",
    "    Returns:\n",
    "    list: List of tuples containing similar song information (artist, track, similarity score).\n",
    "    \"\"\"\n",
    "    # Get similarity scores for the target song\n",
    "    similarity_scores = list(enumerate(similarity_matrix[song_index]))\n",
    "    \n",
    "    # Sort by similarity score in descending order\n",
    "    similarity_scores = sorted(similarity_scores, key=lambda x: x[1], reverse=True)\n",
    "    \n",
    "    # Get top N similar songs (excluding the target song itself)\n",
    "    similar_songs = similarity_scores[1:n+1]\n",
    "    \n",
    "    # Return artist name, track name, and similarity score\n",
    "    return [(df.iloc[i]['artistname'], df.iloc[i]['trackname'], score) for i, score in similar_songs]\n"
   ]
  },
  {
   "cell_type": "markdown",
   "metadata": {},
   "source": [
    "## Collaborative filtering recommendation"
   ]
  },
  {
   "cell_type": "code",
   "execution_count": 5,
   "metadata": {},
   "outputs": [],
   "source": [
    "def collaborative_filtering_recommendation(df, target_user, similarity_matrix, n=5):\n",
    "    \"\"\"\n",
    "    Generate song recommendations for a target user using collaborative filtering.\n",
    "    \n",
    "    Args:\n",
    "    df (pd.DataFrame): DataFrame containing user-song interactions and song features.\n",
    "    target_user (str): User ID for whom to generate recommendations.\n",
    "    similarity_matrix (np.ndarray): Similarity matrix between songs.\n",
    "    n (int): Number of recommendations to generate.\n",
    "    \n",
    "    Returns:\n",
    "    list: List of tuples containing recommended song information (artist, track).\n",
    "    \"\"\"\n",
    "    # Get songs the target user has interacted with\n",
    "    user_songs = df[df['user_id'] == target_user].index.tolist()\n",
    "    \n",
    "    # Calculate average similarity to user's songs for all other songs\n",
    "    avg_similarity = np.mean(similarity_matrix[user_songs], axis=0)\n",
    "    \n",
    "    # Sort songs by average similarity\n",
    "    song_scores = list(enumerate(avg_similarity))\n",
    "    song_scores = sorted(song_scores, key=lambda x: x[1], reverse=True)\n",
    "    \n",
    "    # Filter out songs the user has already interacted with\n",
    "    recommendations = [\n",
    "        (df.iloc[i]['artistname'], df.iloc[i]['trackname'])\n",
    "        for i, _ in song_scores\n",
    "        if i not in user_songs\n",
    "    ][:n]\n",
    "    \n",
    "    return recommendations"
   ]
  },
  {
   "cell_type": "code",
   "execution_count": 6,
   "metadata": {},
   "outputs": [],
   "source": [
    "def main():\n",
    "    # Load and preprocess the data\n",
    "    df = load_data('spotify_data.csv')\n",
    "    \n",
    "    # Calculate similarity matrix\n",
    "    similarity_matrix = calculate_song_similarity(df)\n",
    "    \n",
    "    target_song_index = 0  # Index of the target song in the DataFrame\n",
    "    similar_songs = get_similar_songs(df, target_song_index, similarity_matrix)\n",
    "    \n",
    "    print(\"Similar songs to\", df.iloc[target_song_index]['trackname'], \"by\", df.iloc[target_song_index]['artistname'])\n",
    "    for artist, track, score in similar_songs:\n",
    "        print(f\"- {track} by {artist} (Similarity: {score:.2f})\")\n",
    "    \n",
    "    print(\"\\nCollaborative Filtering Recommendations:\")\n",
    "    # Example: Generate recommendations for a specific user\n",
    "    target_user = 'c1a6910ecac9fd5e5348326675fb6ca6'\n",
    "    recommendations = collaborative_filtering_recommendation(df, target_user, similarity_matrix)\n",
    "    \n",
    "    for artist, track in recommendations:\n",
    "        print(f\"- {track} by {artist}\")"
   ]
  },
  {
   "cell_type": "code",
   "execution_count": 7,
   "metadata": {},
   "outputs": [
    {
     "name": "stdout",
     "output_type": "stream",
     "text": [
      "Similar songs to Abandon Window by Jon Hopkins\n",
      "- Abandon Window by Jon Hopkins (Similarity: 1.00)\n",
      "- Abandon Window by Jon Hopkins (Similarity: 1.00)\n",
      "- (I Believe In) Travellin' Light by Belle & Sebastian (Similarity: 1.00)\n",
      "- Blue Eyes of a Millionaire by Belle & Sebastian (Similarity: 1.00)\n",
      "- Desperation Made a Fool of Me by Belle & Sebastian (Similarity: 1.00)\n",
      "\n",
      "Collaborative Filtering Recommendations:\n",
      "- Stay Alive by José González\n",
      "- Fun City by Soft Cell\n",
      "- Bullet In The Gun - Nat Monday Remix by Planet Perfecto\n",
      "- Bullet In The Gun [Mix Cut] - Nat Monday Remix by Planet Perfecto\n",
      "- Just Tell Me by Toots & The Maytals\n"
     ]
    }
   ],
   "source": [
    "if __name__ == \"__main__\":\n",
    "    main()"
   ]
  }
 ],
 "metadata": {
  "kernelspec": {
   "display_name": "csc84040_final_env",
   "language": "python",
   "name": "python3"
  },
  "language_info": {
   "codemirror_mode": {
    "name": "ipython",
    "version": 3
   },
   "file_extension": ".py",
   "mimetype": "text/x-python",
   "name": "python",
   "nbconvert_exporter": "python",
   "pygments_lexer": "ipython3",
   "version": "3.12.3"
  }
 },
 "nbformat": 4,
 "nbformat_minor": 2
}
