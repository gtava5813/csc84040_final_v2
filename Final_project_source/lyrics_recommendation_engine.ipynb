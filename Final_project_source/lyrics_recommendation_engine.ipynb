{
 "cells": [
  {
   "cell_type": "markdown",
   "id": "47c7490f870463b4",
   "metadata": {},
   "source": [
    "#### This notebook contains all code for preprocessing the lyrics dataset and producing the backend of a hypothetical song recommendation app that recommends songs to users based on lyrics similarity."
   ]
  },
  {
   "cell_type": "markdown",
   "id": "179c254d0dc54648",
   "metadata": {},
   "source": [
    "# Package imports"
   ]
  },
  {
   "cell_type": "code",
   "execution_count": 3,
   "id": "initial_id",
   "metadata": {
    "ExecuteTime": {
     "end_time": "2024-12-09T18:10:13.936772Z",
     "start_time": "2024-12-09T18:10:13.922660Z"
    },
    "collapsed": true
   },
   "outputs": [
    {
     "name": "stderr",
     "output_type": "stream",
     "text": [
      "f:\\CSC84040_Final_Project-main\\csc84040_final_env\\Lib\\site-packages\\tqdm\\auto.py:21: TqdmWarning: IProgress not found. Please update jupyter and ipywidgets. See https://ipywidgets.readthedocs.io/en/stable/user_install.html\n",
      "  from .autonotebook import tqdm as notebook_tqdm\n"
     ]
    }
   ],
   "source": [
    "# Imports\n",
    "import os\n",
    "import regex as re\n",
    "import pandas as pd\n",
    "import numpy as np\n",
    "import sklearn as skl\n",
    "from sklearn.feature_extraction.text import TfidfVectorizer\n",
    "from sklearn.metrics.pairwise import cosine_similarity\n",
    "from sentence_transformers import SentenceTransformer, util"
   ]
  },
  {
   "cell_type": "markdown",
   "id": "511a3e527fb8d5c6",
   "metadata": {},
   "source": [
    "# Data loading and preprocessing\n",
    "I use the \"Song Lyrics Dataset\" from Kaggle: https://www.kaggle.com/datasets/deepshah16/song-lyrics-dataset.\n",
    "This dataset contains data on ~6000 songs from several pop artists, including full text of the lyrics from each song. The data comes in the form of CSV files (or JSON files), one for each artist. I will choose to load from CSV and combine all data into one DataFrame.\n",
    "\n",
    "First we inspect a single one of these artist CSVs."
   ]
  },
  {
   "cell_type": "code",
   "execution_count": 69,
   "id": "10397b25877c05c9",
   "metadata": {
    "ExecuteTime": {
     "end_time": "2024-12-09T18:10:13.990420Z",
     "start_time": "2024-12-09T18:10:13.969536Z"
    }
   },
   "outputs": [
    {
     "name": "stdout",
     "output_type": "stream",
     "text": [
      "Files:  ['ArianaGrande.csv', 'Beyonce.csv', 'BillieEilish.csv', 'BTS.csv', 'CardiB.csv', 'CharliePuth.csv', 'ColdPlay.csv', 'Drake.csv', 'DuaLipa.csv', 'EdSheeran.csv', 'Eminem.csv', 'JustinBieber.csv', 'KatyPerry.csv', 'Khalid.csv', 'LadyGaga.csv', 'Maroon5.csv', 'NickiMinaj.csv', 'PostMalone.csv', 'Rihanna.csv', 'SelenaGomez.csv', 'TaylorSwift.csv']\n"
     ]
    },
    {
     "data": {
      "text/html": [
       "<div>\n",
       "<style scoped>\n",
       "    .dataframe tbody tr th:only-of-type {\n",
       "        vertical-align: middle;\n",
       "    }\n",
       "\n",
       "    .dataframe tbody tr th {\n",
       "        vertical-align: top;\n",
       "    }\n",
       "\n",
       "    .dataframe thead th {\n",
       "        text-align: right;\n",
       "    }\n",
       "</style>\n",
       "<table border=\"1\" class=\"dataframe\">\n",
       "  <thead>\n",
       "    <tr style=\"text-align: right;\">\n",
       "      <th></th>\n",
       "      <th>Unnamed: 0</th>\n",
       "      <th>Artist</th>\n",
       "      <th>Title</th>\n",
       "      <th>Album</th>\n",
       "      <th>Year</th>\n",
       "      <th>Date</th>\n",
       "      <th>Lyric</th>\n",
       "    </tr>\n",
       "  </thead>\n",
       "  <tbody>\n",
       "    <tr>\n",
       "      <th>0</th>\n",
       "      <td>0</td>\n",
       "      <td>Coldplay</td>\n",
       "      <td>The Scientist</td>\n",
       "      <td>A Rush of Blood to the Head</td>\n",
       "      <td>2002.0</td>\n",
       "      <td>2002-08-26</td>\n",
       "      <td>come up to meet you tell you i'm sorry you don...</td>\n",
       "    </tr>\n",
       "    <tr>\n",
       "      <th>1</th>\n",
       "      <td>1</td>\n",
       "      <td>Coldplay</td>\n",
       "      <td>Viva la Vida</td>\n",
       "      <td>Viva La Vida or Death and All His Friends</td>\n",
       "      <td>2008.0</td>\n",
       "      <td>2008-05-25</td>\n",
       "      <td>chris martin i used to rule the world seas wou...</td>\n",
       "    </tr>\n",
       "    <tr>\n",
       "      <th>2</th>\n",
       "      <td>2</td>\n",
       "      <td>Coldplay</td>\n",
       "      <td>Fix You</td>\n",
       "      <td>X&amp;Y</td>\n",
       "      <td>2005.0</td>\n",
       "      <td>2005-06-06</td>\n",
       "      <td>chris martin when you try your best but you do...</td>\n",
       "    </tr>\n",
       "    <tr>\n",
       "      <th>3</th>\n",
       "      <td>3</td>\n",
       "      <td>Coldplay</td>\n",
       "      <td>Yellow</td>\n",
       "      <td>Parachutes</td>\n",
       "      <td>2000.0</td>\n",
       "      <td>2000-06-26</td>\n",
       "      <td>chris martin look at the stars look how they s...</td>\n",
       "    </tr>\n",
       "    <tr>\n",
       "      <th>4</th>\n",
       "      <td>4</td>\n",
       "      <td>Coldplay</td>\n",
       "      <td>Hymn for the Weekend</td>\n",
       "      <td>A Head Full of Dreams</td>\n",
       "      <td>2016.0</td>\n",
       "      <td>2016-01-25</td>\n",
       "      <td>beyoncé and said drink from me drink from me o...</td>\n",
       "    </tr>\n",
       "  </tbody>\n",
       "</table>\n",
       "</div>"
      ],
      "text/plain": [
       "   Unnamed: 0    Artist                 Title  \\\n",
       "0           0  Coldplay         The Scientist   \n",
       "1           1  Coldplay          Viva la Vida   \n",
       "2           2  Coldplay               Fix You   \n",
       "3           3  Coldplay                Yellow   \n",
       "4           4  Coldplay  Hymn for the Weekend   \n",
       "\n",
       "                                       Album    Year        Date  \\\n",
       "0                A Rush of Blood to the Head  2002.0  2002-08-26   \n",
       "1  Viva La Vida or Death and All His Friends  2008.0  2008-05-25   \n",
       "2                                        X&Y  2005.0  2005-06-06   \n",
       "3                                 Parachutes  2000.0  2000-06-26   \n",
       "4                      A Head Full of Dreams  2016.0  2016-01-25   \n",
       "\n",
       "                                               Lyric  \n",
       "0  come up to meet you tell you i'm sorry you don...  \n",
       "1  chris martin i used to rule the world seas wou...  \n",
       "2  chris martin when you try your best but you do...  \n",
       "3  chris martin look at the stars look how they s...  \n",
       "4  beyoncé and said drink from me drink from me o...  "
      ]
     },
     "execution_count": 69,
     "metadata": {},
     "output_type": "execute_result"
    }
   ],
   "source": [
    "print(\"Files: \", os.listdir(\"lyrics_dataset/csv\"))\n",
    "ColdPlay = pd.read_csv('lyrics_dataset\\csv\\ColdPlay.csv')\n",
    "ColdPlay.head()"
   ]
  },
  {
   "cell_type": "code",
   "execution_count": 70,
   "id": "f204562a59ff3c9a",
   "metadata": {
    "ExecuteTime": {
     "end_time": "2024-12-09T18:10:13.997307Z",
     "start_time": "2024-12-09T18:10:13.990420Z"
    }
   },
   "outputs": [],
   "source": [
    "del(ColdPlay)"
   ]
  },
  {
   "cell_type": "markdown",
   "id": "8eeb5cdb2b6179f7",
   "metadata": {},
   "source": [
    "We have several unnecessary features. For my lyric recommendation engine, I want only the lyrics data and a single ID feature, for which I can use a concatenation of Artist & Title. \n",
    "\n",
    "I design a loop for quickly loading the 21 CSV files and preprocessing them accordingly.\n",
    "\n",
    "This loop is the product of additional preprocessing and exploration that has been omitted here:\n",
    "* I discovered NAN values in some lyrics, which I now remove here.\n",
    "\n",
    "* A number of songs in this dataset are remixes, demos, or other copies of other songs in this dataset. In these cases the lyrics match almost exactly, resulting in recommendations for a song containing simply several remixes, covers, etc. of that song. I want a system that recommends **different** songs, so I drop these \"duplicates\" dataset.\n",
    "    * In order to avoid dropping songs that contain words like \"live\" or \"mix\" in the title that do not necessarily indicate a live recording or an artist mix, I drop where certain words are preceeded or followed by a parenthesis or brackets. This manages to eliminate nearly all rows I want to drop without dropping any of the rows that I want to keep. \n",
    "    * In a final product, requesting recommendations on a remix would internally just use the **original song** for calculating recommendations. This could be done by a simple mapping or find-and-replace. For example, requesting recommendations for the song \"Taylor Swift - Love Story (Digital Dog Remix)\" would simply calculate recommendations using the song \"Taylor Swift - Love Story\". "
   ]
  },
  {
   "cell_type": "code",
   "execution_count": 71,
   "id": "d1fd60fd91d7ab16",
   "metadata": {
    "ExecuteTime": {
     "end_time": "2024-12-09T18:10:14.010621Z",
     "start_time": "2024-12-09T18:10:14.001318Z"
    }
   },
   "outputs": [],
   "source": [
    "# List strings to search for in song titles to determine a row should be dropped \n",
    "drop_words = [\"remix\", \"mix)\", \"mix]\", \"(live\", \"[live\", \"live from\", \"recorded live\", \"version)\", \"version]\", \"edit)\", \"edit]\", \"edited)\", \"edited]\", \"demo)\", \"demo]\", \"the beyonce experience live\", \"homecoming live\", \"(acoustic\", \"[acoustic\", \"acoustic)\", \"acoustic]\"]\n",
    "# Escape special characters\n",
    "drop_words = [re.escape(word) for word in drop_words]\n",
    "# Convert to logical statement for inputting to function argument\n",
    "drop_words = '|'.join(drop_words)"
   ]
  },
  {
   "cell_type": "code",
   "execution_count": 72,
   "id": "11a1e453f0457398",
   "metadata": {
    "ExecuteTime": {
     "end_time": "2024-12-09T18:10:14.384993Z",
     "start_time": "2024-12-09T18:10:14.048481Z"
    }
   },
   "outputs": [
    {
     "name": "stdout",
     "output_type": "stream",
     "text": [
      "************************\n",
      "ArianaGrande dataset: \n",
      "                         Title and Artist  \\\n",
      "0          Ariana Grande - ​thank u, next   \n",
      "1                 Ariana Grande - 7 rings   \n",
      "2         Ariana Grande - ​God is a woman   \n",
      "3            Ariana Grande - Side To Side   \n",
      "4  Ariana Grande - ​​no tears left to cry   \n",
      "\n",
      "                                               Lyric  \n",
      "0  thought i'd end up with sean but he wasn't a m...  \n",
      "1  yeah breakfast at tiffany's and bottles of bub...  \n",
      "2  you you love it how i move you you love it how...  \n",
      "3  ariana grande  nicki minaj i've been here all ...  \n",
      "4  right now i'm in a state of mind i wanna be in...  \n",
      "************************\n",
      "\n",
      "\n",
      "************************\n",
      "Beyonce dataset: \n",
      "          Title and Artist                                              Lyric\n",
      "0  Beyoncé - Drunk in Love  beyoncé i've been drinkin' i've been drinkin' ...\n",
      "1      Beyoncé - Formation  messy mya what happened at the new wil'ins bit...\n",
      "2      Beyoncé - Partition  part  yoncé   let me hear you say hey ms carte...\n",
      "3           Beyoncé - Mine  beyoncé i've been watching for the signs took ...\n",
      "4        Beyoncé - Hold Up  hold up they don't love you like i love you sl...\n",
      "************************\n",
      "\n",
      "\n",
      "************************\n",
      "BillieEilish dataset: \n",
      "                          Title and Artist  \\\n",
      "0   Billie Eilish - ​when the party’s over   \n",
      "1     Billie Eilish - ​everything i wanted   \n",
      "2                 Billie Eilish - ​bad guy   \n",
      "3  Billie Eilish - ​idontwannabeyouanymore   \n",
      "4           Billie Eilish - ​bury a friend   \n",
      "\n",
      "                                               Lyric  \n",
      "0  don't you know i'm no good for you i've learne...  \n",
      "1  i had a dream i got everything i wanted not wh...  \n",
      "2  white shirt now red my bloody nose sleepin' yo...  \n",
      "3  don't be that way fall apart twice a day i jus...  \n",
      "4  mehki raine billie   billie eilish what do you...  \n",
      "************************\n",
      "\n",
      "\n",
      "************************\n",
      "BTS dataset: \n",
      "                             Title and Artist  \\\n",
      "0                      BTS (방탄소년단) - Dynamite   \n",
      "1                     BTS (방탄소년단) - FAKE LOVE   \n",
      "3  BTS (방탄소년단) - 전하지 못한 진심 (The Truth Untold)   \n",
      "4               BTS (방탄소년단) - 봄날 (Spring Day)   \n",
      "5                           BTS (방탄소년단) - DNA   \n",
      "\n",
      "                                               Lyric  \n",
      "0  jungkook 'cause i i i'm in the stars tonight s...  \n",
      "1  방탄소년단의 fake love 가사   v jungkook 널 위해서라면 난 슬퍼도...  \n",
      "3  방탄소년단의 전하지 못한 진심 가사   v 외로움이 가득히 피어있는 이 garden...  \n",
      "4  rm 보고 싶다 이렇게 말하니까 더 보고 싶다 너희 사진을 보고 있어도 보고 싶다 ...  \n",
      "5  방탄소년단의 dna 가사   v 첫눈에 널 알아보게 됐어 hmmmm 서롤 불러왔던 ...  \n",
      "************************\n",
      "\n",
      "\n",
      "************************\n",
      "CardiB dataset: \n",
      "          Title and Artist                                              Lyric\n",
      "0            Cardi B - WAP  cardi b al t mclaran  megan thee stallion whor...\n",
      "1   Cardi B - Bodak Yellow  ksr it's cardi ayy said i'm the shit they can'...\n",
      "2  Cardi B - Bartier Cardi  cardi b   savage bardi in a 'rari diamonds all...\n",
      "3     Cardi B - Be Careful  yeah care for me care for me care for me uh ye...\n",
      "4          Cardi B - Money  look my bitches all bad my niggas all real i r...\n",
      "************************\n",
      "\n",
      "\n",
      "************************\n",
      "CharliePuth dataset: \n",
      "                       Title and Artist  \\\n",
      "0              Charlie Puth - Attention   \n",
      "1  Charlie Puth - We Don’t Talk Anymore   \n",
      "2               Charlie Puth - How Long   \n",
      "3            Charlie Puth - Marvin Gaye   \n",
      "4          Charlie Puth - One Call Away   \n",
      "\n",
      "                                               Lyric  \n",
      "0  woahoh hmhmm   you've been runnin' 'round runn...  \n",
      "1  charlie puth we don't talk anymore we don't ta...  \n",
      "2  alright ooh yeah   i'll admit i was wrong what...  \n",
      "3  charlie puth let's marvin gaye and get it on y...  \n",
      "4  i'm only one call away i'll be there to save t...  \n",
      "************************\n",
      "\n",
      "\n",
      "************************\n",
      "ColdPlay dataset: \n",
      "                  Title and Artist  \\\n",
      "0         Coldplay - The Scientist   \n",
      "1          Coldplay - Viva la Vida   \n",
      "2               Coldplay - Fix You   \n",
      "3                Coldplay - Yellow   \n",
      "4  Coldplay - Hymn for the Weekend   \n",
      "\n",
      "                                               Lyric  \n",
      "0  come up to meet you tell you i'm sorry you don...  \n",
      "1  chris martin i used to rule the world seas wou...  \n",
      "2  chris martin when you try your best but you do...  \n",
      "3  chris martin look at the stars look how they s...  \n",
      "4  beyoncé and said drink from me drink from me o...  \n",
      "************************\n",
      "\n",
      "\n",
      "************************\n",
      "Drake dataset: \n",
      "                    Title and Artist  \\\n",
      "0                 Drake - God’s Plan   \n",
      "1             Drake - In My Feelings   \n",
      "2              Drake - Hotline Bling   \n",
      "3                  Drake - One Dance   \n",
      "4  Drake - Hold On, We’re Going Home   \n",
      "\n",
      "                                               Lyric  \n",
      "0  and they wishin' and wishin' and wishin' and w...  \n",
      "1  drake trap trapmoneybenny this shit got me in ...  \n",
      "2  you used to call me on my you used to you used...  \n",
      "3  kyla baby i like your style   drake grips on y...  \n",
      "4  produced by nineteen85 majid jordan  noah 40 s...  \n",
      "************************\n",
      "\n",
      "\n",
      "************************\n",
      "DuaLipa dataset: \n",
      "                   Title and Artist  \\\n",
      "0              Dua Lipa - New Rules   \n",
      "1        Dua Lipa - Don’t Start Now   \n",
      "2                  Dua Lipa - IDGAF   \n",
      "3  Dua Lipa - Blow Your Mind (Mwah)   \n",
      "4             Dua Lipa - Be the One   \n",
      "\n",
      "                                               Lyric  \n",
      "0  one one one one one   talkin' in my sleep at n...  \n",
      "1  if you don't wanna see me   did a full 80 craz...  \n",
      "2  you call me all friendly tellin' me how much y...  \n",
      "3  i know it's hot i know we've got something tha...  \n",
      "4  i see the moon i see the moon i see the moon o...  \n",
      "************************\n",
      "\n",
      "\n",
      "************************\n",
      "EdSheeran dataset: \n",
      "                   Title and Artist  \\\n",
      "0         Ed Sheeran - Shape of You   \n",
      "1              Ed Sheeran - Perfect   \n",
      "2   Ed Sheeran - Castle on the Hill   \n",
      "3              Ed Sheeran - Happier   \n",
      "4  Ed Sheeran - Supermarket Flowers   \n",
      "\n",
      "                                               Lyric  \n",
      "0  the club isn't the best place to find a lover ...  \n",
      "1  i found a love for me oh darling just dive rig...  \n",
      "2  when i was six years old i broke my leg i was ...  \n",
      "3  walking down 9th and park i saw you in another...  \n",
      "4  i took the supermarket flowers from the window...  \n",
      "************************\n",
      "\n",
      "\n",
      "************************\n",
      "Eminem dataset: \n",
      "         Title and Artist                                              Lyric\n",
      "0        Eminem - Rap God  look i was gonna go easy on you not to hurt yo...\n",
      "1       Eminem - Killshot  you sound like a bitch bitch shut the fuck up ...\n",
      "2       Eminem - Godzilla  ugh you're a monster   eminem i can swallow a ...\n",
      "3  Eminem - Lose Yourself  look if you had one shot or one opportunity to...\n",
      "4    Eminem - The Monster  rihanna i'm friends with the monster that's un...\n",
      "************************\n",
      "\n",
      "\n",
      "************************\n",
      "JustinBieber dataset: \n",
      "                         Title and Artist  \\\n",
      "0           Justin Bieber - Love Yourself   \n",
      "1                   Justin Bieber - Sorry   \n",
      "2                   Justin Bieber - Yummy   \n",
      "3  Justin Bieber - As Long as You Love Me   \n",
      "4                    Justin Bieber - Baby   \n",
      "\n",
      "                                               Lyric  \n",
      "0  produced by benny blanco   for all the times t...  \n",
      "1  written by julia michaels justin tranter and j...  \n",
      "2  yeah you got that yummyyum that yummyyum that ...  \n",
      "3  justin bieber as long as you love me love me l...  \n",
      "4  produced by thedream and tricky stewart   just...  \n",
      "************************\n",
      "\n",
      "\n",
      "************************\n",
      "KatyPerry dataset: \n",
      "                     Title and Artist  \\\n",
      "0            Katy Perry - Swish Swish   \n",
      "1  Katy Perry - Chained to the Rhythm   \n",
      "2             Katy Perry - Dark Horse   \n",
      "3            Katy Perry - Bon Appétit   \n",
      "4                   Katy Perry - Roar   \n",
      "\n",
      "                                               Lyric  \n",
      "0  refrain they know what is what but they don't ...  \n",
      "1  katy perry are we crazy living our lives throu...  \n",
      "2  juicy j yeah ya'll know what it is katy perry ...  \n",
      "3  quavo ayy yeah katy perry migos ayy   katy per...  \n",
      "4  i used to bite my tongue and hold my breath sc...  \n",
      "************************\n",
      "\n",
      "\n",
      "************************\n",
      "Khalid dataset: \n",
      "              Title and Artist  \\\n",
      "0  Khalid - Young Dumb & Broke   \n",
      "1            Khalid - Location   \n",
      "2              Khalid - Better   \n",
      "3                Khalid - Talk   \n",
      "4               Khalid - Saved   \n",
      "\n",
      "                                               Lyric  \n",
      "0  so you're still thinking of me just like i kno...  \n",
      "1  send me your location let's focus on communica...  \n",
      "2  better nothing baby nothing feels better i'm n...  \n",
      "3  can we just talk can we just talk talk about w...  \n",
      "4  4   the hard part always seems to last forever...  \n",
      "************************\n",
      "\n",
      "\n",
      "************************\n",
      "LadyGaga dataset: \n",
      "                          Title and Artist  \\\n",
      "0               Lady Gaga - Do What U Want   \n",
      "1  Lady Gaga - Always Remember Us This Way   \n",
      "2                  Lady Gaga - Bad Romance   \n",
      "3                 Lady Gaga - Sexxx Dreams   \n",
      "5                   Lady Gaga - Poker Face   \n",
      "\n",
      "                                               Lyric  \n",
      "0  lady gaga  r kelly yeah oh turn the mic up yea...  \n",
      "1  that arizona sky burnin' in your eyes you look...  \n",
      "2  ohohohohoh ohohohoh ohohoh caught in a bad rom...  \n",
      "3  last night our lovers' quarrel i was thinking ...  \n",
      "5  mum mum mum mah mum mum mum mah mum mum mum ma...  \n",
      "************************\n",
      "\n",
      "\n",
      "************************\n",
      "Maroon5 dataset: \n",
      "              Title and Artist  \\\n",
      "1    Maroon 5 - What Lovers Do   \n",
      "2          Maroon 5 - Memories   \n",
      "3    Maroon 5 - Girls Like You   \n",
      "4  Maroon 5 - Don’t Wanna Know   \n",
      "5    Maroon 5 - One More Night   \n",
      "\n",
      "                                               Lyric  \n",
      "1  adam levine say say say hey hey now baby oh ma...  \n",
      "2  here's to the ones that we got cheers to the w...  \n",
      "3  spent 4 hours i need more hours with you you s...  \n",
      "4  oh hey oh oh hey oh oh oh hey uh oh uh oh   ad...  \n",
      "5  ooh ooh ooh ooh ooh ooh ooh ooh ooh ooh ooh oo...  \n",
      "************************\n",
      "\n",
      "\n",
      "************************\n",
      "NickiMinaj dataset: \n",
      "               Title and Artist  \\\n",
      "0            Nicki Minaj - Only   \n",
      "1  Nicki Minaj - Feeling Myself   \n",
      "2   Nicki Minaj - Barbie Dreams   \n",
      "3  Nicki Minaj - Truffle Butter   \n",
      "4         Nicki Minaj - Chun-Li   \n",
      "\n",
      "                                               Lyric  \n",
      "0  nicki minaj yo i never fucked wayne i never fu...  \n",
      "1  nicki minaj yo b they ready let's go   beyoncé...  \n",
      "2  uh mmm kyuh rip to big  classic shit   i'm loo...  \n",
      "3  maya jane coles you know don't you yeah night ...  \n",
      "4  ayo look like i'm goin' for a swim dunked on '...  \n",
      "************************\n",
      "\n",
      "\n",
      "************************\n",
      "PostMalone dataset: \n",
      "                Title and Artist  \\\n",
      "0       Post Malone - ​​rockstar   \n",
      "1    Post Malone - White Iverson   \n",
      "2  Post Malone - Congratulations   \n",
      "3           Post Malone - Psycho   \n",
      "4     Post Malone - I Fall Apart   \n",
      "\n",
      "                                               Lyric  \n",
      "0  post malone hahahahaha tank god ayy ayy   post...  \n",
      "1  double ot i'm a new three   saucin' saucin' i'...  \n",
      "2  post malone mmmmm yeah yeah mmmmm yeah hey   p...  \n",
      "3  post malone damn my ap goin' psycho lil' mama ...  \n",
      "4  ooh i fall apart ooh yeah mmm yeah   she told ...  \n",
      "************************\n",
      "\n",
      "\n",
      "************************\n",
      "Rihanna dataset: \n",
      "              Title and Artist  \\\n",
      "0               Rihanna - Work   \n",
      "1  Rihanna - Love on the Brain   \n",
      "2          Rihanna - Needed Me   \n",
      "3               Rihanna - Stay   \n",
      "4     Rihanna - Kiss It Better   \n",
      "\n",
      "                                               Lyric  \n",
      "0  rihanna work work work work work work he said ...  \n",
      "1  and you got me like oh what you want from me w...  \n",
      "2  yg mustard on the beat ho   i was good on my o...  \n",
      "3  rihanna all along it was a fever a cold sweat ...  \n",
      "4  kiss it kiss it better baby kiss it kiss it be...  \n",
      "************************\n",
      "\n",
      "\n",
      "************************\n",
      "SelenaGomez dataset: \n",
      "                     Title and Artist  \\\n",
      "0  Selena Gomez - Lose You To Love Me   \n",
      "1          Selena Gomez - Back to You   \n",
      "2               Selena Gomez - Fetish   \n",
      "3             Selena Gomez - Bad Liar   \n",
      "4      Selena Gomez - Look At Her Now   \n",
      "\n",
      "                                               Lyric  \n",
      "0  you promised the world and i fell for it i put...  \n",
      "1  took you like a shot thought that i could chas...  \n",
      "2  selena gomez take it or leave it baby take it ...  \n",
      "3  i was walking down the street the other day tr...  \n",
      "4  yeah   they fell in love one summer a little t...  \n",
      "************************\n",
      "\n",
      "\n",
      "************************\n",
      "TaylorSwift dataset: \n",
      "                          Title and Artist  \\\n",
      "0                 Taylor Swift - ​cardigan   \n",
      "1                    Taylor Swift - ​exile   \n",
      "2                     Taylor Swift - Lover   \n",
      "3                    Taylor Swift - ​the 1   \n",
      "4  Taylor Swift - Look What You Made Me Do   \n",
      "\n",
      "                                               Lyric  \n",
      "0  vintage tee brand new phone high heels on cobb...  \n",
      "1  justin vernon i can see you standing honey wit...  \n",
      "2  we could leave the christmas lights up 'til ja...  \n",
      "3  i'm doing good i'm on some new shit been sayin...  \n",
      "4  i don't like your little games don't like your...  \n",
      "************************\n",
      "\n",
      "\n"
     ]
    },
    {
     "data": {
      "text/html": [
       "<div>\n",
       "<style scoped>\n",
       "    .dataframe tbody tr th:only-of-type {\n",
       "        vertical-align: middle;\n",
       "    }\n",
       "\n",
       "    .dataframe tbody tr th {\n",
       "        vertical-align: top;\n",
       "    }\n",
       "\n",
       "    .dataframe thead th {\n",
       "        text-align: right;\n",
       "    }\n",
       "</style>\n",
       "<table border=\"1\" class=\"dataframe\">\n",
       "  <thead>\n",
       "    <tr style=\"text-align: right;\">\n",
       "      <th></th>\n",
       "      <th>Title and Artist</th>\n",
       "      <th>Lyric</th>\n",
       "    </tr>\n",
       "  </thead>\n",
       "  <tbody>\n",
       "    <tr>\n",
       "      <th>0</th>\n",
       "      <td>Ariana Grande - ​thank u, next</td>\n",
       "      <td>thought i'd end up with sean but he wasn't a m...</td>\n",
       "    </tr>\n",
       "    <tr>\n",
       "      <th>1</th>\n",
       "      <td>Ariana Grande - 7 rings</td>\n",
       "      <td>yeah breakfast at tiffany's and bottles of bub...</td>\n",
       "    </tr>\n",
       "    <tr>\n",
       "      <th>2</th>\n",
       "      <td>Ariana Grande - ​God is a woman</td>\n",
       "      <td>you you love it how i move you you love it how...</td>\n",
       "    </tr>\n",
       "    <tr>\n",
       "      <th>3</th>\n",
       "      <td>Ariana Grande - Side To Side</td>\n",
       "      <td>ariana grande  nicki minaj i've been here all ...</td>\n",
       "    </tr>\n",
       "    <tr>\n",
       "      <th>4</th>\n",
       "      <td>Ariana Grande - ​​no tears left to cry</td>\n",
       "      <td>right now i'm in a state of mind i wanna be in...</td>\n",
       "    </tr>\n",
       "  </tbody>\n",
       "</table>\n",
       "</div>"
      ],
      "text/plain": [
       "                         Title and Artist  \\\n",
       "0          Ariana Grande - ​thank u, next   \n",
       "1                 Ariana Grande - 7 rings   \n",
       "2         Ariana Grande - ​God is a woman   \n",
       "3            Ariana Grande - Side To Side   \n",
       "4  Ariana Grande - ​​no tears left to cry   \n",
       "\n",
       "                                               Lyric  \n",
       "0  thought i'd end up with sean but he wasn't a m...  \n",
       "1  yeah breakfast at tiffany's and bottles of bub...  \n",
       "2  you you love it how i move you you love it how...  \n",
       "3  ariana grande  nicki minaj i've been here all ...  \n",
       "4  right now i'm in a state of mind i wanna be in...  "
      ]
     },
     "execution_count": 72,
     "metadata": {},
     "output_type": "execute_result"
    }
   ],
   "source": [
    "# Set path to data\n",
    "data_folder = \"lyrics_dataset/csv\"\n",
    "\n",
    "# Initialize a master dataframe that I will combine all lyric data into.\n",
    "lyrics_df = pd.DataFrame()\n",
    "\n",
    "# Loop through all files in folder\n",
    "for file in os.listdir(data_folder):\n",
    "    # Search only for .csvs, just in case\n",
    "    if file.endswith(\".csv\"):\n",
    "        # Assign name\n",
    "        dataframe_name = os.path.splitext(file)[0]\n",
    "        # Get path\n",
    "        file_path = os.path.join(data_folder, file)\n",
    "        # Load each dataframe as a global variable\n",
    "        globals()[dataframe_name] = pd.read_csv(file_path)\n",
    "        # Drop rows where 'Lyric' is NaN\n",
    "        globals()[dataframe_name] = globals()[dataframe_name].dropna(subset=[\"Lyric\"])\n",
    "        # Drop rows where Title contains \"remix\"\n",
    "        globals()[dataframe_name] = globals()[dataframe_name][~globals()[dataframe_name][\"Title\"].str.contains(drop_words, case=False, na=False)]        \n",
    "        # Merge artist and song name into one variable\n",
    "        globals()[dataframe_name][\"Title and Artist\"] = (globals()[dataframe_name][\"Artist\"] + \" - \" + globals()[dataframe_name][\"Title\"])\n",
    "        # Drop Date, Album and Year\n",
    "        globals()[dataframe_name].drop(columns=[\"Artist\", \"Title\", \"Date\", \"Album\", \"Year\"], \n",
    "                                       inplace=True)\n",
    "        # Make \"Title and Artist\" the first column\n",
    "        cols = [\"Title and Artist\"] + [\"Lyric\"]\n",
    "        globals()[dataframe_name] = globals()[dataframe_name][cols]\n",
    "        # Append the current DataFrame to the lyrics_df DataFrame\n",
    "        lyrics_df = pd.concat([lyrics_df, globals()[dataframe_name]],\n",
    "                              ignore_index=True)\n",
    "        # DEBUG PRINT to inspect the outputs of this loop\n",
    "        print(\"************************\")\n",
    "        print(dataframe_name, \"dataset: \")\n",
    "        print(globals()[dataframe_name].head())\n",
    "        print(\"************************\")\n",
    "        print(\"\\n\")\n",
    "\n",
    "lyrics_df.head()"
   ]
  },
  {
   "cell_type": "markdown",
   "id": "b90ebb23ced7dc0b",
   "metadata": {},
   "source": [
    "The following was some of the code originally used to devise my additional stop words & drop words. Left here for example."
   ]
  },
  {
   "cell_type": "code",
   "execution_count": 73,
   "id": "102d2ec735a02c18",
   "metadata": {
    "ExecuteTime": {
     "end_time": "2024-12-09T18:10:14.393959Z",
     "start_time": "2024-12-09T18:10:14.384993Z"
    }
   },
   "outputs": [
    {
     "data": {
      "text/plain": [
       "414           Beyoncé - Baby Boy [Junior’s World Mixshow]\n",
       "2233                        Eminem - Kill My Pain (Mixup)\n",
       "2345    Eminem - Jimmy Crack Corn (Cashis Vocal Mix (EX))\n",
       "3191                      Lady Gaga - The DJ Vice Megamix\n",
       "Name: Title and Artist, dtype: object"
      ]
     },
     "execution_count": 73,
     "metadata": {},
     "output_type": "execute_result"
    }
   ],
   "source": [
    "suspect_rows = lyrics_df[lyrics_df[\"Title and Artist\"].str.contains(\"mix\", case=False)][\"Title and Artist\"]\n",
    "suspect_rows"
   ]
  },
  {
   "cell_type": "markdown",
   "id": "3897c87fb9894081",
   "metadata": {},
   "source": [
    "# Recommendation algorithm\n",
    "\n",
    "First I build my stopword list. Adapted from Scikit-Learn framework. I decide to include some additional stopwords, like \"remix\" or \"produced\" as the original dataset does not seem to be perfectly clean, sometimes containing words like these before the actual lyrics. I also drop zero-width white space characters (\\u200b), which appear in some places."
   ]
  },
  {
   "cell_type": "code",
   "execution_count": 74,
   "id": "13f297edf8411d68",
   "metadata": {
    "ExecuteTime": {
     "end_time": "2024-12-09T18:10:14.404681Z",
     "start_time": "2024-12-09T18:10:14.393959Z"
    }
   },
   "outputs": [],
   "source": [
    "STOP_WORD_LIST = [\n",
    "    \"a\", \"about\", \"above\", \"across\", \"after\", \"afterwards\", \"again\", \"against\", \"all\", \"almost\", \"alone\", \"along\", \"already\", \"also\", \"although\", \"always\", \"am\", \"among\", \"amongst\", \"amoungst\", \"amount\", \"an\", \"and\", \"another\", \"any\", \"anyhow\", \"anyone\", \"anything\", \"anyway\", \"anywhere\", \"are\", \"around\", \"as\", \"at\", \"back\", \"be\", \"became\", \"because\", \"become\", \"becomes\", \"becoming\", \"been\", \"before\", \"beforehand\", \"behind\", \"being\", \"below\", \"beside\", \"besides\", \"between\", \"beyond\", \"bill\", \"both\", \"bottom\", \"but\", \"by\", \"call\", \"can\", \"cannot\", \"cant\", \"co\", \"con\", \"could\", \"couldnt\", \"cry\", \"de\", \"describe\", \"detail\", \"do\", \"done\", \"down\", \"due\", \"during\", \"each\", \"eg\", \"eight\", \"either\", \"eleven\", \"else\", \"elsewhere\", \"empty\", \"enough\", \"etc\", \"even\", \"ever\", \"every\", \"everyone\", \"everything\", \"everywhere\", \"except\", \"few\", \"fifteen\", \"fifty\", \"fill\", \"find\", \"fire\", \"first\", \"five\", \"for\", \"former\", \"formerly\", \"forty\", \"found\", \"four\", \"from\", \"front\", \"full\", \"further\", \"get\", \"give\", \"go\", \"had\", \"has\", \"hasnt\", \"have\", \"he\", \"hence\", \"her\", \"here\", \"hereafter\", \"hereby\", \"herein\", \"hereupon\", \"hers\", \"herself\", \"him\", \"himself\", \"his\", \"how\", \"however\", \"hundred\", \"i\", \"ie\", \"if\", \"in\", \"inc\", \"indeed\", \"interest\", \"into\", \"is\", \"it\", \"its\", \"itself\", \"keep\", \"last\", \"latter\", \"latterly\", \"least\", \"less\", \"ltd\", \"made\", \"many\", \"may\", \"me\", \"meanwhile\", \"might\", \"mill\", \"mine\", \"more\", \"moreover\", \"most\", \"mostly\", \"move\", \"much\", \"must\", \"my\", \"myself\", \"name\", \"namely\", \"neither\", \"never\", \"nevertheless\", \"next\", \"nine\", \"no\", \"nobody\", \"none\", \"noone\", \"nor\", \"not\", \"nothing\", \"now\", \"nowhere\", \"of\", \"off\", \"often\", \"on\", \"once\", \"one\", \"only\", \"onto\", \"or\", \"other\", \"others\", \"otherwise\", \"our\", \"ours\", \"ourselves\", \"out\", \"over\", \"own\", \"part\", \"per\", \"perhaps\", \"please\", \"put\", \"rather\", \"re\", \"same\", \"see\", \"seem\", \"seemed\", \"seeming\", \"seems\", \"serious\", \"several\", \"she\", \"should\", \"show\", \"side\", \"since\", \"sincere\", \"six\", \"sixty\", \"so\", \"some\", \"somehow\", \"someone\", \"something\", \"sometime\", \"sometimes\", \"somewhere\", \"still\", \"such\", \"system\", \"take\", \"ten\", \"than\", \"that\", \"the\", \"their\", \"them\", \"themselves\", \"then\", \"thence\", \"there\", \"thereafter\", \"thereby\", \"therefore\", \"therein\", \"thereupon\", \"these\", \"they\", \"thick\", \"thin\", \"third\", \"this\", \"those\", \"though\", \"three\", \"through\", \"throughout\", \"thru\", \"thus\", \"to\", \"together\", \"too\", \"top\", \"toward\", \"towards\", \"twelve\", \"twenty\", \"two\", \"un\", \"under\", \"until\", \"up\", \"upon\", \"us\", \"very\", \"via\", \"was\", \"we\", \"well\", \"were\", \"what\", \"whatever\", \"when\", \"whence\", \"whenever\", \"where\", \"whereafter\", \"whereas\", \"whereby\", \"wherein\", \"whereupon\", \"wherever\", \"whether\", \"which\", \"while\", \"whither\", \"who\", \"whoever\", \"whole\", \"whom\", \"whose\", \"why\", \"will\", \"with\", \"within\", \"without\", \"would\", \"yet\", \"you\", \"your\", \"yours\", \"yourself\", \"yourselves\", \"remix\", \"mix\", \"produced\", \"producer\", \"edit\", \"oh\", \"ah\" \"ra\", \"la\", \"\\u200b\"\n",
    "]\n"
   ]
  },
  {
   "cell_type": "markdown",
   "id": "410a4a0c5bdd7ed1",
   "metadata": {},
   "source": [
    "Next I get only the lyrics from my dataframe, and produce a matrix of TF-IDF vectorized lyric data. I also save the \"Title and Artist\" data for indexing."
   ]
  },
  {
   "cell_type": "code",
   "execution_count": 75,
   "id": "69327734afbcbb75",
   "metadata": {
    "ExecuteTime": {
     "end_time": "2024-12-09T18:10:15.213852Z",
     "start_time": "2024-12-09T18:10:14.404681Z"
    }
   },
   "outputs": [],
   "source": [
    "# Get lyrics column\n",
    "lyrics = lyrics_df['Lyric']\n",
    "\n",
    "# Initialize tfidf vectorizer\n",
    "tfidf = TfidfVectorizer(max_features=None, \n",
    "                        stop_words=STOP_WORD_LIST, \n",
    "                        lowercase=True)\n",
    "\n",
    "# Fit vectorizer and produce TF-IDF matrix\n",
    "tfidf_matrix = tfidf.fit_transform(lyrics)\n",
    "\n",
    "# Save song & artist column as indices for mapping\n",
    "songs_and_artists = lyrics_df['Title and Artist'].tolist()\n",
    "        "
   ]
  },
  {
   "cell_type": "markdown",
   "id": "b66dcdbf4baf5a1e",
   "metadata": {},
   "source": [
    "I use cosine similarity to measure song similarity by "
   ]
  },
  {
   "cell_type": "code",
   "execution_count": 76,
   "id": "9b61dccbdb37a2f5",
   "metadata": {
    "ExecuteTime": {
     "end_time": "2024-12-09T18:10:15.658422Z",
     "start_time": "2024-12-09T18:10:15.213852Z"
    }
   },
   "outputs": [],
   "source": [
    "# Compute the cosine similarity matrix\n",
    "similarity_matrix = cosine_similarity(tfidf_matrix)"
   ]
  },
  {
   "cell_type": "code",
   "execution_count": 77,
   "id": "df7caea802c14bc1",
   "metadata": {
    "ExecuteTime": {
     "end_time": "2024-12-09T18:10:15.664172Z",
     "start_time": "2024-12-09T18:10:15.658422Z"
    }
   },
   "outputs": [],
   "source": [
    "def recommend_songs(query_song, songs_and_artists, similarity_matrix, top_n=5):\n",
    "    \"\"\"\n",
    "    Recommend songs based on lyrics similarity.\n",
    "\n",
    "    Parameters:\n",
    "    - query_song: str, the title of the song to query\n",
    "    - song_titles: list of song titles\n",
    "    - similarity_matrix: precomputed cosine similarity matrix\n",
    "    - top_n: int, number of recommendations to return\n",
    "\n",
    "    Returns:\n",
    "    - list of recommended songs\n",
    "    \"\"\"\n",
    "    # Find the index of the query song\n",
    "    try:\n",
    "        idx = songs_and_artists.index(query_song)\n",
    "    except ValueError:\n",
    "        return f\"Song '{query_song}' not found in the dataset.\"\n",
    "\n",
    "    # Get similarity scores for the song\n",
    "    similarity_scores = list(enumerate(similarity_matrix[idx]))\n",
    "\n",
    "    # Sort by similarity score (descending) and exclude the query song\n",
    "    similarity_scores = sorted(similarity_scores, key=lambda x: x[1], reverse=True)\n",
    "    similarity_scores = [s for s in similarity_scores if s[0] != idx]\n",
    "\n",
    "    # Retrieve top N recommendations\n",
    "    top_songs = [(songs_and_artists[i], score) for i, score in similarity_scores[:top_n]]\n",
    "\n",
    "    return top_songs\n"
   ]
  },
  {
   "cell_type": "code",
   "execution_count": 78,
   "id": "ec8f2cd6b3bac76c",
   "metadata": {
    "ExecuteTime": {
     "end_time": "2024-12-09T18:10:15.674207Z",
     "start_time": "2024-12-09T18:10:15.664172Z"
    }
   },
   "outputs": [
    {
     "name": "stdout",
     "output_type": "stream",
     "text": [
      "Recommendations for 'Coldplay - The Scientist':\n",
      "- Eminem - The Monster (similarity: 0.28)\n",
      "- Drake - Signs (similarity: 0.21)\n",
      "- Coldplay - WOTW / POTP (similarity: 0.20)\n",
      "- Drake - Easy (similarity: 0.19)\n",
      "- Beyoncé - Why Don’t You Love Me (similarity: 0.17)\n",
      "- Rihanna - Complicated (similarity: 0.17)\n",
      "- Taylor Swift - ​invisible string (the long pond studio sessions) (similarity: 0.17)\n",
      "- Coldplay - Major Minus (similarity: 0.16)\n",
      "- Coldplay - Major minus - single version (similarity: 0.16)\n",
      "- Rihanna - Yeah, I Said It (similarity: 0.15)\n"
     ]
    }
   ],
   "source": [
    "query_song = \"Coldplay - The Scientist\"\n",
    "\n",
    "# Get recommendations\n",
    "tfidf_recommendations = recommend_songs(query_song, songs_and_artists, similarity_matrix, top_n=10)\n",
    "\n",
    "# Print results\n",
    "print(f\"Recommendations for '{query_song}':\")\n",
    "for song, score in tfidf_recommendations:\n",
    "    print(f\"- {song} (similarity: {score:.2f})\")"
   ]
  },
  {
   "cell_type": "markdown",
   "id": "b92e56e023fbe4fb",
   "metadata": {},
   "source": [
    "# Alternative: Use encoder model"
   ]
  },
  {
   "cell_type": "markdown",
   "id": "e0dc07358c876218",
   "metadata": {},
   "source": [
    "As a comparison, I'll also try using an Encoder model, rather than TF-IDF scoring. Encoder models capture semantic information in a way that TF-IDF simply cannot. This may be preferable for song lyrics given the value of figurative meaning in art. \n",
    "I begin by instantiating my chosen model (a sentence-BERT model), and using it to encode my lyric data."
   ]
  },
  {
   "cell_type": "code",
   "execution_count": 79,
   "id": "ca40ed8939ab39af",
   "metadata": {
    "ExecuteTime": {
     "end_time": "2024-12-09T18:10:16.930613Z",
     "start_time": "2024-12-09T18:10:15.674207Z"
    }
   },
   "outputs": [],
   "source": [
    "# Load a pre-trained Sentence-BERT model\n",
    "model = SentenceTransformer('all-MiniLM-L6-v2')  # I try all-MiniLM-L6-v2, as it is a lightweight & efficient model based on BERT"
   ]
  },
  {
   "cell_type": "code",
   "execution_count": 80,
   "id": "12ceb8c5e28fed72",
   "metadata": {
    "ExecuteTime": {
     "end_time": "2024-12-09T18:11:37.592879Z",
     "start_time": "2024-12-09T18:10:16.930613Z"
    }
   },
   "outputs": [],
   "source": [
    "# Convert lyrics into embeddings\n",
    "lyrics = lyrics_df['Lyric'].tolist()\n",
    "embeddings = model.encode(lyrics, convert_to_tensor=True)"
   ]
  },
  {
   "cell_type": "markdown",
   "id": "8e80c3e2d7b26ab2",
   "metadata": {},
   "source": [
    "Encoding via an encoder rather than TF-IDF scoring seems to take significantly longer. I then define a new recommendation function."
   ]
  },
  {
   "cell_type": "code",
   "execution_count": 81,
   "id": "8b3f3900344d323",
   "metadata": {
    "ExecuteTime": {
     "end_time": "2024-12-09T18:11:37.598279Z",
     "start_time": "2024-12-09T18:11:37.592879Z"
    }
   },
   "outputs": [],
   "source": [
    "# Define a function to recommend songs based on similarity\n",
    "def recommend_songs_encoder(query_song, songs_and_artists, embeddings, top_n=5):\n",
    "    try:\n",
    "        idx = songs_and_artists.index(query_song)\n",
    "    except ValueError:\n",
    "        return f\"Song '{query_song}' not found in the dataset.\"\n",
    "\n",
    "    # Compute cosine similarity with the query song\n",
    "    query_embedding = embeddings[idx]\n",
    "    similarity_scores = util.pytorch_cos_sim(query_embedding, embeddings)[0]\n",
    "\n",
    "    # Sort by similarity score\n",
    "    top_indices = similarity_scores.argsort(descending=True)[1:top_n+1]  # Exclude query song\n",
    "    top_songs = [(songs_and_artists[i], similarity_scores[i].item()) for i in top_indices]\n",
    "\n",
    "    return top_songs"
   ]
  },
  {
   "cell_type": "markdown",
   "id": "538197aa17cce537",
   "metadata": {},
   "source": [
    "Finally, I test my encoder-based recommendation function."
   ]
  },
  {
   "cell_type": "code",
   "execution_count": 82,
   "id": "55c9980e2137d246",
   "metadata": {
    "ExecuteTime": {
     "end_time": "2024-12-09T18:11:37.607018Z",
     "start_time": "2024-12-09T18:11:37.599285Z"
    }
   },
   "outputs": [
    {
     "name": "stdout",
     "output_type": "stream",
     "text": [
      "Recommendations for 'Coldplay - The Scientist':\n",
      "- Justin Bieber - Break It Down (similarity: 0.59)\n",
      "- Coldplay - Trouble (similarity: 0.57)\n",
      "- Ed Sheeran - Where We Land (similarity: 0.56)\n",
      "- Coldplay - Swallowed in the Sea (similarity: 0.56)\n",
      "- Justin Bieber - Up (similarity: 0.56)\n",
      "- Taylor Swift - I Knew You Were Trouble. (similarity: 0.55)\n",
      "- Taylor Swift - Fall Back On You (similarity: 0.55)\n",
      "- Post Malone - Circles (similarity: 0.55)\n",
      "- Coldplay - Birds (similarity: 0.55)\n",
      "- Charlie Puth - Left Right Left (similarity: 0.55)\n"
     ]
    }
   ],
   "source": [
    "query_song = \"Coldplay - The Scientist\"\n",
    "\n",
    "# Query and get recommendations\n",
    "encoder_recommendations = recommend_songs_encoder(query_song, songs_and_artists, embeddings, top_n=10)\n",
    "\n",
    "# Print results\n",
    "print(f\"Recommendations for '{query_song}':\")\n",
    "for song, score in encoder_recommendations:\n",
    "    print(f\"- {song} (similarity: {score:.2f})\")"
   ]
  }
 ],
 "metadata": {
  "kernelspec": {
   "display_name": "csc84040_final_env",
   "language": "python",
   "name": "python3"
  },
  "language_info": {
   "codemirror_mode": {
    "name": "ipython",
    "version": 3
   },
   "file_extension": ".py",
   "mimetype": "text/x-python",
   "name": "python",
   "nbconvert_exporter": "python",
   "pygments_lexer": "ipython3",
   "version": "3.12.3"
  }
 },
 "nbformat": 4,
 "nbformat_minor": 5
}
